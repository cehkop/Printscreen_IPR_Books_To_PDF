{
 "cells": [
  {
   "cell_type": "code",
   "execution_count": 108,
   "id": "71a437cc",
   "metadata": {},
   "outputs": [],
   "source": [
    "import pyautogui\n",
    "import time as t\n",
    "from selenium import webdriver\n",
    "from selenium.webdriver.common.keys import Keys\n",
    "from selenium.webdriver.firefox.firefox_binary import FirefoxBinary\n",
    "from PIL import Image"
   ]
  },
  {
   "cell_type": "code",
   "execution_count": 107,
   "id": "714071ee",
   "metadata": {},
   "outputs": [],
   "source": [
    "binary = FirefoxBinary(r'C:\\Program Files\\Mozilla Firefox\\firefox.exe')\n",
    "driver = webdriver.Firefox(firefox_binary=binary)\n",
    "driver.get('https://www.iprbookshop.ru/epd-reader?publicationId=81325')"
   ]
  },
  {
   "cell_type": "code",
   "execution_count": 71,
   "id": "5c8cd5e4",
   "metadata": {},
   "outputs": [],
   "source": [
    "# import time as t\n",
    "# t.sleep(2)\n",
    "# nom_page=30;\n",
    "# m=10\n",
    "# for j in range(nom_page):\n",
    "#     for i in range(m):\n",
    "#         screenshot = pyautogui.screenshot(region=(675, 195, 565, 800))\n",
    "#         screenshot.save(\"book\\screenshot%s.png\"%(ji))\n",
    "#         pyautogui.scroll(-2479) \n",
    "#         t.sleep(0.18)\n",
    "#     j=j+i\n"
   ]
  },
  {
   "cell_type": "code",
   "execution_count": 88,
   "id": "2b6429b1",
   "metadata": {},
   "outputs": [],
   "source": [
    "# 100% масштаб, ipr по размеру страницы\n",
    "import time as t\n",
    "t.sleep(2)\n",
    "nom_page=82;\n",
    "for i in range(nom_page):\n",
    "    screenshot = pyautogui.screenshot(region=(630, 250, 650, 900))\n",
    "    screenshot.save(\"book\\screenshot%s.png\"%(i))\n",
    "    pyautogui.scroll(-2000) \n",
    "    pyautogui.scroll(-240)\n",
    "    t.sleep(0.18)\n"
   ]
  },
  {
   "cell_type": "code",
   "execution_count": 105,
   "id": "58b3aa4e",
   "metadata": {},
   "outputs": [],
   "source": [
    "# браузер в полный экран - F11\n",
    "\n",
    "t.sleep(4)\n",
    "nom_page=40;\n",
    "for i in range(nom_page):\n",
    "    screenshot = pyautogui.screenshot(region=(580, 150, 750, 1020))\n",
    "    screenshot.save(\"book\\screenshot%s.png\"%(i))\n",
    "    pyautogui.scroll(-2000) \n",
    "    pyautogui.scroll(-558)\n",
    "    t.sleep(0.18)\n"
   ]
  },
  {
   "cell_type": "code",
   "execution_count": 205,
   "id": "b48083d8",
   "metadata": {},
   "outputs": [],
   "source": [
    "# страница в полную ширину (на 1 страницу 3 картинки)\n",
    "t.sleep(3)\n",
    "nom_page=82;\n",
    "for i in range(nom_page):\n",
    "    img = Image.new('RGB', (1800, 877*3))\n",
    "    for j in range(3):\n",
    "        img1 = pyautogui.screenshot(region=(50, 250, 1800, 877))\n",
    "#         screenshot.save(f\"book\\m\\screenshot{j}.png\")\n",
    "        img.paste(img1, (0,877*j))\n",
    "        pyautogui.scroll(-2064) \n",
    "        if (i%4==0):\n",
    "            pyautogui.scroll(1) \n",
    "        t.sleep(0.15)\n",
    "        \n",
    "#     img1 = Image.open('book\\m\\screenshot0.png')\n",
    "#     img2 = Image.open('book\\m\\screenshot1.png')\n",
    "#     img3 = Image.open('book\\m\\screenshot2.png')\n",
    "#     img.paste(img1, (0,0))\n",
    "#     img.paste(img2, (0,877))\n",
    "#     img.paste(img3, (0,877*2))\n",
    "    img.crop((1, 1, 1800, 2550)).save(f\"book\\screen{i}.png\")"
   ]
  }
 ],
 "metadata": {
  "kernelspec": {
   "display_name": "Python 3 (ipykernel)",
   "language": "python",
   "name": "python3"
  },
  "language_info": {
   "codemirror_mode": {
    "name": "ipython",
    "version": 3
   },
   "file_extension": ".py",
   "mimetype": "text/x-python",
   "name": "python",
   "nbconvert_exporter": "python",
   "pygments_lexer": "ipython3",
   "version": "3.9.7"
  }
 },
 "nbformat": 4,
 "nbformat_minor": 5
}
